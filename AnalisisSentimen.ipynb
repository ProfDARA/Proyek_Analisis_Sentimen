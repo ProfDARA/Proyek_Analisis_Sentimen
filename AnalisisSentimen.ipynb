{
  "cells": [
    {
      "cell_type": "code",
      "execution_count": 8,
      "id": "3c78ba52",
      "metadata": {
        "id": "3c78ba52"
      },
      "outputs": [],
      "source": [
        "# sentiment_analysis.py\n",
        "import pandas as pd\n",
        "import numpy as np\n",
        "import matplotlib.pyplot as plt\n",
        "import seaborn as sns\n",
        "import tensorflow as tf\n",
        "from sklearn.model_selection import train_test_split\n",
        "from sklearn.metrics import classification_report, confusion_matrix\n",
        "from sklearn.preprocessing import LabelEncoder\n",
        "from tensorflow.keras.models import Sequential\n",
        "from tensorflow.keras.layers import Embedding, LSTM, GRU, Dense, Bidirectional, Conv1D, GlobalMaxPooling1D, GlobalAveragePooling1D\n",
        "from tensorflow.keras.preprocessing.text import Tokenizer\n",
        "from tensorflow.keras.preprocessing.sequence import pad_sequences\n",
        "from tensorflow.keras.callbacks import EarlyStopping\n",
        "# import os\n"
      ]
    },
    {
      "cell_type": "code",
      "source": [
        "from google.colab import drive\n",
        "drive.mount('/content/drive')"
      ],
      "metadata": {
        "colab": {
          "base_uri": "https://localhost:8080/"
        },
        "id": "2Wg1t7AgOmCN",
        "outputId": "2f1e9f04-1151-4841-ff2d-db0b8d13ab17"
      },
      "id": "2Wg1t7AgOmCN",
      "execution_count": 9,
      "outputs": [
        {
          "output_type": "stream",
          "name": "stdout",
          "text": [
            "Drive already mounted at /content/drive; to attempt to forcibly remount, call drive.mount(\"/content/drive\", force_remount=True).\n"
          ]
        }
      ]
    },
    {
      "cell_type": "code",
      "execution_count": 10,
      "id": "8532a76e",
      "metadata": {
        "id": "8532a76e",
        "colab": {
          "base_uri": "https://localhost:8080/"
        },
        "outputId": "765dd10f-9421-43dc-8af8-8bbb31438bf9"
      },
      "outputs": [
        {
          "output_type": "stream",
          "name": "stdout",
          "text": [
            "Kolom tersedia: ['userName', 'content', 'score', 'label', 'at']\n",
            "Contoh data awal:\n",
            "          userName                                            content  score  \\\n",
            "0  Pengguna Google                                              bagus      5   \n",
            "1  Pengguna Google  sangat membantu, terima kasih banyak jkn sukse...      5   \n",
            "2  Pengguna Google                                             mantul      5   \n",
            "3  Pengguna Google                                               good      5   \n",
            "4  Pengguna Google                                             mantap      5   \n",
            "\n",
            "     label                   at  \n",
            "0  positif  2025-05-24 13:48:06  \n",
            "1  positif  2025-05-24 13:26:27  \n",
            "2  positif  2025-05-24 13:24:33  \n",
            "3  positif  2025-05-24 12:45:05  \n",
            "4  positif  2025-05-24 12:28:22  \n"
          ]
        }
      ],
      "source": [
        "# Load dataset\n",
        "df = pd.read_csv('dataset_labeled.csv')\n",
        "\n",
        "# Verifikasi kolom\n",
        "print(\"Kolom tersedia:\", df.columns.tolist())\n",
        "print(\"Contoh data awal:\")\n",
        "print(df.head())\n",
        "\n",
        "# untuk memastikan kolom label dan teks tersedia\n",
        "TEXT_COLUMN = 'content'\n",
        "LABEL_COLUMN = 'label'\n",
        "if TEXT_COLUMN not in df.columns or LABEL_COLUMN not in df.columns:\n",
        "    raise ValueError(\"Dataset harus memiliki kolom 'content' dan 'label'\")\n"
      ]
    },
    {
      "cell_type": "code",
      "source": [
        "# Analisis distribusi label sentimen\n",
        "if 'label' not in df.columns:\n",
        "    raise ValueError(\"Kolom 'label' tidak ditemukan dalam dataset\")\n",
        "\n",
        "sentiment_counts = df['label'].value_counts()\n",
        "print(\"\\nDistribusi Sentimen:\")\n",
        "print(sentiment_counts)\n",
        "\n",
        "# Visualisasi distribusi sentimen\n",
        "plt.figure(figsize=(6, 4))\n",
        "sns.countplot(x='label', data=df)\n",
        "plt.title('Distribusi Sentimen')\n",
        "plt.xlabel('Sentimen')\n",
        "plt.ylabel('Jumlah Data')\n",
        "plt.tight_layout()\n",
        "plt.show()\n"
      ],
      "metadata": {
        "colab": {
          "base_uri": "https://localhost:8080/",
          "height": 529
        },
        "id": "zG8eFKSo2_aH",
        "outputId": "babc17d4-8127-435a-ee87-f0d3fcc38c24"
      },
      "id": "zG8eFKSo2_aH",
      "execution_count": 11,
      "outputs": [
        {
          "output_type": "stream",
          "name": "stdout",
          "text": [
            "\n",
            "Distribusi Sentimen:\n",
            "label\n",
            "negatif    46846\n",
            "positif    45790\n",
            "netral      4437\n",
            "Name: count, dtype: int64\n"
          ]
        },
        {
          "output_type": "display_data",
          "data": {
            "text/plain": [
              "<Figure size 600x400 with 1 Axes>"
            ],
            "image/png": "[encoded data removed]"
          },
          "metadata": {}
        }
      ]
    },
    {
      "cell_type": "code",
      "source": [
        "# Encode label menjadi integer\n",
        "label_encoder = LabelEncoder()\n",
        "df[LABEL_COLUMN] = label_encoder.fit_transform(df[LABEL_COLUMN])"
      ],
      "metadata": {
        "id": "1V9rpamu2mIY"
      },
      "id": "1V9rpamu2mIY",
      "execution_count": 12,
      "outputs": []
    },
    {
      "cell_type": "code",
      "execution_count": 13,
      "id": "a09338f5",
      "metadata": {
        "id": "a09338f5"
      },
      "outputs": [],
      "source": [
        "# Tokenisasi teks\n",
        "tokenizer = Tokenizer(num_words=20000, oov_token=\"<OOV>\")\n",
        "tokenizer.fit_on_texts(df[TEXT_COLUMN])\n",
        "sequences = tokenizer.texts_to_sequences(df[TEXT_COLUMN])"
      ]
    },
    {
      "cell_type": "code",
      "execution_count": 14,
      "id": "e24e936e",
      "metadata": {
        "id": "e24e936e"
      },
      "outputs": [],
      "source": [
        "# Padding sequence\n",
        "X = pad_sequences(sequences, padding='post', maxlen=100)\n",
        "y = df[LABEL_COLUMN].values\n"
      ]
    },
    {
      "cell_type": "code",
      "source": [
        "# Split data\n",
        "X_train, X_test, y_train, y_test = train_test_split(X, y, stratify=y, test_size=0.2, random_state=42)\n"
      ],
      "metadata": {
        "id": "TgpC0GiQihyL"
      },
      "id": "TgpC0GiQihyL",
      "execution_count": 15,
      "outputs": []
    },
    {
      "cell_type": "code",
      "source": [
        "# Konfigurasi umum\n",
        "vocab_size = 20000\n",
        "embedding_dim = 128\n",
        "input_length = 100\n",
        "num_classes = len(np.unique(y))\n",
        "\n",
        "# Tempat simpan hasil akurasi\n",
        "results = []"
      ],
      "metadata": {
        "id": "hcwkogzCimnz"
      },
      "id": "hcwkogzCimnz",
      "execution_count": 16,
      "outputs": []
    },
    {
      "cell_type": "code",
      "source": [
        "# SKEMA 1 Bidirectional LSTM + GlobalAveragePooling\n",
        "model1 = Sequential([\n",
        "    Embedding(vocab_size, embedding_dim, input_length=input_length),\n",
        "    Bidirectional(LSTM(64, return_sequences=True)),\n",
        "    GlobalAveragePooling1D(),\n",
        "    Dense(64, activation='relu'),\n",
        "    Dense(num_classes, activation='softmax')\n",
        "])\n",
        "model1.compile(optimizer='adam', loss='sparse_categorical_crossentropy', metrics=['accuracy'])\n",
        "model1.fit(X_train, y_train, validation_split=0.2, epochs=5, batch_size=64)\n",
        "train_acc1 = model1.evaluate(X_train, y_train)[1]\n",
        "test_acc1 = model1.evaluate(X_test, y_test)[1]\n",
        "results.append(['BiLSTM + GAP', train_acc1, test_acc1])\n",
        "model1.save('model_bilstm.h5')\n"
      ],
      "metadata": {
        "id": "agDtib6NinG7",
        "colab": {
          "base_uri": "https://localhost:8080/"
        },
        "outputId": "f05e6fcd-eed5-4a5e-9c14-961d33e21cdf"
      },
      "id": "agDtib6NinG7",
      "execution_count": 17,
      "outputs": [
        {
          "output_type": "stream",
          "name": "stdout",
          "text": [
            "Epoch 1/5\n"
          ]
        },
        {
          "output_type": "stream",
          "name": "stderr",
          "text": [
            "/usr/local/lib/python3.11/dist-packages/keras/src/layers/core/embedding.py:90: UserWarning: Argument `input_length` is deprecated. Just remove it.\n",
            "  warnings.warn(\n"
          ]
        },
        {
          "output_type": "stream",
          "name": "stdout",
          "text": [
            "\u001b[1m971/971\u001b[0m \u001b[32m━━━━━━━━━━━━━━━━━━━━\u001b[0m\u001b[37m\u001b[0m \u001b[1m297s\u001b[0m 301ms/step - accuracy: 0.7875 - loss: 0.5356 - val_accuracy: 0.8878 - val_loss: 0.3513\n",
            "Epoch 2/5\n",
            "\u001b[1m971/971\u001b[0m \u001b[32m━━━━━━━━━━━━━━━━━━━━\u001b[0m\u001b[37m\u001b[0m \u001b[1m316s\u001b[0m 325ms/step - accuracy: 0.9006 - loss: 0.3137 - val_accuracy: 0.8945 - val_loss: 0.3311\n",
            "Epoch 3/5\n",
            "\u001b[1m971/971\u001b[0m \u001b[32m━━━━━━━━━━━━━━━━━━━━\u001b[0m\u001b[37m\u001b[0m \u001b[1m298s\u001b[0m 300ms/step - accuracy: 0.9103 - loss: 0.2743 - val_accuracy: 0.8924 - val_loss: 0.3332\n",
            "Epoch 4/5\n",
            "\u001b[1m971/971\u001b[0m \u001b[32m━━━━━━━━━━━━━━━━━━━━\u001b[0m\u001b[37m\u001b[0m \u001b[1m294s\u001b[0m 303ms/step - accuracy: 0.9196 - loss: 0.2433 - val_accuracy: 0.8911 - val_loss: 0.3480\n",
            "Epoch 5/5\n",
            "\u001b[1m971/971\u001b[0m \u001b[32m━━━━━━━━━━━━━━━━━━━━\u001b[0m\u001b[37m\u001b[0m \u001b[1m325s\u001b[0m 306ms/step - accuracy: 0.9267 - loss: 0.2159 - val_accuracy: 0.8798 - val_loss: 0.3799\n",
            "\u001b[1m2427/2427\u001b[0m \u001b[32m━━━━━━━━━━━━━━━━━━━━\u001b[0m\u001b[37m\u001b[0m \u001b[1m92s\u001b[0m 38ms/step - accuracy: 0.9363 - loss: 0.1930\n",
            "\u001b[1m607/607\u001b[0m \u001b[32m━━━━━━━━━━━━━━━━━━━━\u001b[0m\u001b[37m\u001b[0m \u001b[1m24s\u001b[0m 39ms/step - accuracy: 0.8830 - loss: 0.3602\n"
          ]
        },
        {
          "output_type": "stream",
          "name": "stderr",
          "text": [
            "WARNING:absl:You are saving your model as an HDF5 file via `model.save()` or `keras.saving.save_model(model)`. This file format is considered legacy. We recommend using instead the native Keras format, e.g. `model.save('my_model.keras')` or `keras.saving.save_model(model, 'my_model.keras')`. \n"
          ]
        }
      ]
    },
    {
      "cell_type": "code",
      "source": [
        "# SKEMA 2 CNN + GlobalMaxPooling\n",
        "model2 = Sequential([\n",
        "    Embedding(vocab_size, embedding_dim, input_length=input_length),\n",
        "    Conv1D(128, 5, activation='relu'),\n",
        "    GlobalMaxPooling1D(),\n",
        "    Dense(64, activation='relu'),\n",
        "    Dense(num_classes, activation='softmax')\n",
        "])\n",
        "model2.compile(optimizer='adam', loss='sparse_categorical_crossentropy', metrics=['accuracy'])\n",
        "model2.fit(X_train, y_train, validation_split=0.2, epochs=5, batch_size=64)\n",
        "train_acc2 = model2.evaluate(X_train, y_train)[1]\n",
        "test_acc2 = model2.evaluate(X_test, y_test)[1]\n",
        "results.append(['CNN + GMP', train_acc2, test_acc2])\n",
        "model2.save('model_cnn.h5')\n"
      ],
      "metadata": {
        "id": "V7YymJotio6L",
        "colab": {
          "base_uri": "https://localhost:8080/"
        },
        "outputId": "b8272422-a226-42c6-9dcd-085591c13c9c"
      },
      "id": "V7YymJotio6L",
      "execution_count": 18,
      "outputs": [
        {
          "output_type": "stream",
          "name": "stdout",
          "text": [
            "Epoch 1/5\n",
            "\u001b[1m971/971\u001b[0m \u001b[32m━━━━━━━━━━━━━━━━━━━━\u001b[0m\u001b[37m\u001b[0m \u001b[1m114s\u001b[0m 115ms/step - accuracy: 0.8590 - loss: 0.4328 - val_accuracy: 0.8936 - val_loss: 0.3271\n",
            "Epoch 2/5\n",
            "\u001b[1m971/971\u001b[0m \u001b[32m━━━━━━━━━━━━━━━━━━━━\u001b[0m\u001b[37m\u001b[0m \u001b[1m142s\u001b[0m 115ms/step - accuracy: 0.9110 - loss: 0.2727 - val_accuracy: 0.8931 - val_loss: 0.3281\n",
            "Epoch 3/5\n",
            "\u001b[1m971/971\u001b[0m \u001b[32m━━━━━━━━━━━━━━━━━━━━\u001b[0m\u001b[37m\u001b[0m \u001b[1m148s\u001b[0m 121ms/step - accuracy: 0.9315 - loss: 0.2029 - val_accuracy: 0.8880 - val_loss: 0.3763\n",
            "Epoch 4/5\n",
            "\u001b[1m971/971\u001b[0m \u001b[32m━━━━━━━━━━━━━━━━━━━━\u001b[0m\u001b[37m\u001b[0m \u001b[1m135s\u001b[0m 114ms/step - accuracy: 0.9552 - loss: 0.1370 - val_accuracy: 0.8673 - val_loss: 0.4326\n",
            "Epoch 5/5\n",
            "\u001b[1m971/971\u001b[0m \u001b[32m━━━━━━━━━━━━━━━━━━━━\u001b[0m\u001b[37m\u001b[0m \u001b[1m113s\u001b[0m 116ms/step - accuracy: 0.9740 - loss: 0.0843 - val_accuracy: 0.8767 - val_loss: 0.5571\n",
            "\u001b[1m2427/2427\u001b[0m \u001b[32m━━━━━━━━━━━━━━━━━━━━\u001b[0m\u001b[37m\u001b[0m \u001b[1m34s\u001b[0m 14ms/step - accuracy: 0.9832 - loss: 0.0580\n",
            "\u001b[1m607/607\u001b[0m \u001b[32m━━━━━━━━━━━━━━━━━━━━\u001b[0m\u001b[37m\u001b[0m \u001b[1m9s\u001b[0m 15ms/step - accuracy: 0.8825 - loss: 0.5205\n"
          ]
        },
        {
          "output_type": "stream",
          "name": "stderr",
          "text": [
            "WARNING:absl:You are saving your model as an HDF5 file via `model.save()` or `keras.saving.save_model(model)`. This file format is considered legacy. We recommend using instead the native Keras format, e.g. `model.save('my_model.keras')` or `keras.saving.save_model(model, 'my_model.keras')`. \n"
          ]
        }
      ]
    },
    {
      "cell_type": "code",
      "source": [
        "# SKEMA 3 Bidirectional GRU + GlobalAveragePooling\n",
        "model3 = Sequential([\n",
        "    Embedding(vocab_size, embedding_dim, input_length=input_length),\n",
        "    Bidirectional(GRU(64, return_sequences=True)),\n",
        "    GlobalAveragePooling1D(),\n",
        "    Dense(64, activation='relu'),\n",
        "    Dense(num_classes, activation='softmax')\n",
        "])\n",
        "model3.compile(optimizer='adam', loss='sparse_categorical_crossentropy', metrics=['accuracy'])\n",
        "model3.fit(X_train, y_train, validation_split=0.2, epochs=5, batch_size=64)\n",
        "train_acc3 = model3.evaluate(X_train, y_train)[1]\n",
        "test_acc3 = model3.evaluate(X_test, y_test)[1]\n",
        "results.append(['BiGRU + GAP', train_acc3, test_acc3])\n",
        "model3.save('model_bigru.h5')\n"
      ],
      "metadata": {
        "id": "jezdf51BiqFT",
        "colab": {
          "base_uri": "https://localhost:8080/"
        },
        "outputId": "c0bfa7c0-6b64-46ea-90ac-8edc8debcab3"
      },
      "id": "jezdf51BiqFT",
      "execution_count": 19,
      "outputs": [
        {
          "output_type": "stream",
          "name": "stdout",
          "text": [
            "Epoch 1/5\n",
            "\u001b[1m971/971\u001b[0m \u001b[32m━━━━━━━━━━━━━━━━━━━━\u001b[0m\u001b[37m\u001b[0m \u001b[1m327s\u001b[0m 331ms/step - accuracy: 0.7855 - loss: 0.5110 - val_accuracy: 0.8958 - val_loss: 0.3257\n",
            "Epoch 2/5\n",
            "\u001b[1m971/971\u001b[0m \u001b[32m━━━━━━━━━━━━━━━━━━━━\u001b[0m\u001b[37m\u001b[0m \u001b[1m322s\u001b[0m 332ms/step - accuracy: 0.9067 - loss: 0.2865 - val_accuracy: 0.8951 - val_loss: 0.3197\n",
            "Epoch 3/5\n",
            "\u001b[1m971/971\u001b[0m \u001b[32m━━━━━━━━━━━━━━━━━━━━\u001b[0m\u001b[37m\u001b[0m \u001b[1m329s\u001b[0m 339ms/step - accuracy: 0.9186 - loss: 0.2486 - val_accuracy: 0.8924 - val_loss: 0.3375\n",
            "Epoch 4/5\n",
            "\u001b[1m971/971\u001b[0m \u001b[32m━━━━━━━━━━━━━━━━━━━━\u001b[0m\u001b[37m\u001b[0m \u001b[1m378s\u001b[0m 335ms/step - accuracy: 0.9242 - loss: 0.2254 - val_accuracy: 0.8900 - val_loss: 0.3638\n",
            "Epoch 5/5\n",
            "\u001b[1m971/971\u001b[0m \u001b[32m━━━━━━━━━━━━━━━━━━━━\u001b[0m\u001b[37m\u001b[0m \u001b[1m383s\u001b[0m 336ms/step - accuracy: 0.9343 - loss: 0.1933 - val_accuracy: 0.8766 - val_loss: 0.4063\n",
            "\u001b[1m2427/2427\u001b[0m \u001b[32m━━━━━━━━━━━━━━━━━━━━\u001b[0m\u001b[37m\u001b[0m \u001b[1m91s\u001b[0m 37ms/step - accuracy: 0.9453 - loss: 0.1720\n",
            "\u001b[1m607/607\u001b[0m \u001b[32m━━━━━━━━━━━━━━━━━━━━\u001b[0m\u001b[37m\u001b[0m \u001b[1m21s\u001b[0m 35ms/step - accuracy: 0.8826 - loss: 0.3859\n"
          ]
        },
        {
          "output_type": "stream",
          "name": "stderr",
          "text": [
            "WARNING:absl:You are saving your model as an HDF5 file via `model.save()` or `keras.saving.save_model(model)`. This file format is considered legacy. We recommend using instead the native Keras format, e.g. `model.save('my_model.keras')` or `keras.saving.save_model(model, 'my_model.keras')`. \n"
          ]
        }
      ]
    },
    {
      "cell_type": "code",
      "source": [
        "# Simpan hasil akurasi ke CSV\n",
        "results_df = pd.DataFrame(results, columns=['Skema', 'Akurasi Training', 'Akurasi Testing'])\n",
        "results_df.to_csv('hasil_akurasi.csv', index=False)\n",
        "print(\"\\nHasil Akurasi Tiap Skema:\")\n",
        "print(results_df)\n",
        "\n",
        "# Inference dari model terbaik (BiLSTM)\n",
        "pred_probs = model1.predict(X_test)\n",
        "y_pred = np.argmax(pred_probs, axis=1)\n",
        "print(\"\\nClassification Report (BiLSTM):\")\n",
        "print(classification_report(y_test, y_pred, target_names=label_encoder.classes_))"
      ],
      "metadata": {
        "id": "4a6logETisrb",
        "colab": {
          "base_uri": "https://localhost:8080/"
        },
        "outputId": "23541aaf-2779-40f5-c4f1-4d5e2ef11caf"
      },
      "id": "4a6logETisrb",
      "execution_count": 20,
      "outputs": [
        {
          "output_type": "stream",
          "name": "stdout",
          "text": [
            "\n",
            "Hasil Akurasi Tiap Skema:\n",
            "          Skema  Akurasi Training  Akurasi Testing\n",
            "0  BiLSTM + GAP          0.926279         0.881020\n",
            "1     CNN + GMP          0.963275         0.879732\n",
            "2   BiGRU + GAP          0.932576         0.880556\n",
            "\u001b[1m607/607\u001b[0m \u001b[32m━━━━━━━━━━━━━━━━━━━━\u001b[0m\u001b[37m\u001b[0m \u001b[1m23s\u001b[0m 37ms/step\n",
            "\n",
            "Classification Report (BiLSTM):\n",
            "              precision    recall  f1-score   support\n",
            "\n",
            "     negatif       0.87      0.92      0.89      9369\n",
            "      netral       0.22      0.06      0.10       888\n",
            "     positif       0.91      0.92      0.92      9158\n",
            "\n",
            "    accuracy                           0.88     19415\n",
            "   macro avg       0.67      0.63      0.64     19415\n",
            "weighted avg       0.86      0.88      0.87     19415\n",
            "\n"
          ]
        }
      ]
    },
    {
      "cell_type": "code",
      "source": [
        "from tensorflow.keras.models import load_model\n",
        "from tensorflow.keras.preprocessing.sequence import pad_sequences\n",
        "import numpy as np\n",
        "\n",
        "# Load trained modelnya\n",
        "model1 = load_model('model_bilstm.h5')\n",
        "model2 = load_model('model_cnn.h5')\n",
        "model3 = load_model('model_bigru.h5')\n",
        "\n",
        "def predict_sentiment(text, tokenizer, label_encoder, max_len=100):\n",
        "    \"\"\"\n",
        "    Predicts sentiment for a given text using the provided tokenizer and label encoder.\n",
        "\n",
        "    Args:\n",
        "        text (str): The input text.\n",
        "        tokenizer: The fitted Keras Tokenizer object.\n",
        "        label_encoder: The fitted scikit-learn LabelEncoder object.\n",
        "        max_len (int): Maximum sequence length for padding.\n",
        "\n",
        "    Returns:\n",
        "        str: The predicted sentiment label.\n",
        "    \"\"\"\n",
        "    sequence = tokenizer.texts_to_sequences([text])\n",
        "    padded_sequence = pad_sequences(sequence, padding='post', maxlen=max_len)\n",
        "\n",
        "    # Predict probabilities untuk tiap model\n",
        "    pred_probs1 = model1.predict(padded_sequence, verbose=0)\n",
        "    pred_probs2 = model2.predict(padded_sequence, verbose=0)\n",
        "    pred_probs3 = model3.predict(padded_sequence, verbose=0)\n",
        "\n",
        "    # Get predicted class index untuk tiap model\n",
        "    predicted_class_index1 = np.argmax(pred_probs1, axis=1)[0]\n",
        "    predicted_class_index2 = np.argmax(pred_probs2, axis=1)[0]\n",
        "    predicted_class_index3 = np.argmax(pred_probs3, axis=1)[0]\n",
        "\n",
        "    # Decode predicted class index kembali ke label original\n",
        "    predicted_label1 = label_encoder.inverse_transform([predicted_class_index1])[0]\n",
        "    predicted_label2 = label_encoder.inverse_transform([predicted_class_index2])[0]\n",
        "    predicted_label3 = label_encoder.inverse_transform([predicted_class_index3])[0]\n",
        "\n",
        "    return predicted_label1, predicted_label2, predicted_label3\n",
        "\n",
        "# Input text untuk test\n",
        "test_comment = \"Aplikasi ini sangat membantu\"\n",
        "\n",
        "# Predict sentiment menggunakan 3 model\n",
        "sentiment_model1, sentiment_model2, sentiment_model3 = predict_sentiment(test_comment, tokenizer, label_encoder)\n",
        "\n",
        "print(f\"Teks Uji: '{test_comment}'\")\n",
        "print(f\"Prediksi Model 1 (BiLSTM + GAP): {sentiment_model1}\")\n",
        "print(f\"Prediksi Model 2 (CNN + GMP): {sentiment_model2}\")\n",
        "print(f\"Prediksi Model 3 (BiGRU + GAP): {sentiment_model3}\")\n",
        "\n",
        "# Contoh dengan text lain\n",
        "test_comment_negative = \"mengapa verifikasi wajah selalu gagal ya ?\"\n",
        "sentiment_model1_neg, sentiment_model2_neg, sentiment_model3_neg = predict_sentiment(test_comment_negative, tokenizer, label_encoder)\n",
        "\n",
        "print(f\"\\nTeks Uji: '{test_comment_negative}'\")\n",
        "print(f\"Prediksi Model 1 (BiLSTM + GAP): {sentiment_model1_neg}\")\n",
        "print(f\"Prediksi Model 2 (CNN + GMP): {sentiment_model2_neg}\")\n",
        "print(f\"Prediksi Model 3 (BiGRU + GAP): {sentiment_model3_neg}\")\n"
      ],
      "metadata": {
        "id": "BnnJHusUy_p3",
        "colab": {
          "base_uri": "https://localhost:8080/"
        },
        "outputId": "f50f1a04-81e3-4b9f-d3ab-faad6d220910"
      },
      "id": "BnnJHusUy_p3",
      "execution_count": 24,
      "outputs": [
        {
          "output_type": "stream",
          "name": "stderr",
          "text": [
            "WARNING:absl:Compiled the loaded model, but the compiled metrics have yet to be built. `model.compile_metrics` will be empty until you train or evaluate the model.\n",
            "WARNING:absl:Compiled the loaded model, but the compiled metrics have yet to be built. `model.compile_metrics` will be empty until you train or evaluate the model.\n",
            "WARNING:absl:Compiled the loaded model, but the compiled metrics have yet to be built. `model.compile_metrics` will be empty until you train or evaluate the model.\n"
          ]
        },
        {
          "output_type": "stream",
          "name": "stdout",
          "text": [
            "Teks Uji: 'Aplikasi ini sangat membantu'\n",
            "Prediksi Model 1 (BiLSTM + GAP): positif\n",
            "Prediksi Model 2 (CNN + GMP): positif\n",
            "Prediksi Model 3 (BiGRU + GAP): positif\n",
            "\n",
            "Teks Uji: 'mengapa verifikasi wajah selalu gagal ya ?'\n",
            "Prediksi Model 1 (BiLSTM + GAP): negatif\n",
            "Prediksi Model 2 (CNN + GMP): negatif\n",
            "Prediksi Model 3 (BiGRU + GAP): negatif\n"
          ]
        }
      ]
    },
    {
      "cell_type": "code",
      "source": [
        "# Confusion Matrixnya\n",
        "def plot_conf_matrix(y_true, y_pred, labels, title):\n",
        "    cm = confusion_matrix(y_true, y_pred)\n",
        "    plt.figure(figsize=(6, 5))\n",
        "    sns.heatmap(cm, annot=True, fmt='d', cmap='Blues', xticklabels=labels, yticklabels=labels)\n",
        "    plt.title(title)\n",
        "    plt.xlabel('Predicted')\n",
        "    plt.ylabel('Actual')\n",
        "    plt.tight_layout()\n",
        "    plt.show()\n",
        "\n",
        "plot_conf_matrix(y_test, y_pred, label_encoder.classes_, \"Confusion Matrix - BiLSTM\")\n"
      ],
      "metadata": {
        "id": "quqVX5gZiuta",
        "colab": {
          "base_uri": "https://localhost:8080/",
          "height": 507
        },
        "outputId": "fba6e374-d783-4653-e630-88f5ca247d47"
      },
      "id": "quqVX5gZiuta",
      "execution_count": 22,
      "outputs": [
        {
          "output_type": "display_data",
          "data": {
            "text/plain": [
              "<Figure size 600x500 with 2 Axes>"
            ],
            "image/png": "[encoded data removed]"
          },
          "metadata": {}
        }
      ]
    },
    {
      "cell_type": "code",
      "source": [
        "# requirements\n",
        "pandas>=1.0.0\n",
        "numpy>=1.18.0\n",
        "matplotlib>=3.1.0\n",
        "seaborn>=0.11.0\n",
        "tensorflow>=2.0.0\n",
        "scikit-learn>=0.22.0\n",
        "gspread>=3.0.0\n",
        "oauth2client>=4.1.3\n"
      ],
      "metadata": {
        "id": "te4DDCNLjULs"
      },
      "id": "te4DDCNLjULs",
      "execution_count": null,
      "outputs": []
    }
  ],
  "metadata": {
    "kernelspec": {
      "display_name": "Python 3",
      "language": "python",
      "name": "python3"
    },
    "language_info": {
      "codemirror_mode": {
        "name": "ipython",
        "version": 3
      },
      "file_extension": ".py",
      "mimetype": "text/x-python",
      "name": "python",
      "nbconvert_exporter": "python",
      "pygments_lexer": "ipython3",
      "version": "3.13.1"
    },
    "colab": {
      "provenance": []
    }
  },
  "nbformat": 4,
  "nbformat_minor": 5
}