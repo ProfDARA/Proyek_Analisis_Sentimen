{
 "cells": [
  {
   "cell_type": "code",
   "execution_count": 4,
   "id": "3c78ba52",
   "metadata": {},
   "outputs": [
    {
     "ename": "ModuleNotFoundError",
     "evalue": "No module named 'pandas'",
     "output_type": "error",
     "traceback": [
      "\u001b[1;31m---------------------------------------------------------------------------\u001b[0m",
      "\u001b[1;31mModuleNotFoundError\u001b[0m                       Traceback (most recent call last)",
      "Cell \u001b[1;32mIn[4], line 1\u001b[0m\n\u001b[1;32m----> 1\u001b[0m \u001b[38;5;28;01mimport\u001b[39;00m\u001b[38;5;250m \u001b[39m\u001b[38;5;21;01mpandas\u001b[39;00m\u001b[38;5;250m \u001b[39m\u001b[38;5;28;01mas\u001b[39;00m\u001b[38;5;250m \u001b[39m\u001b[38;5;21;01mpd\u001b[39;00m\n\u001b[0;32m      2\u001b[0m \u001b[38;5;28;01mimport\u001b[39;00m\u001b[38;5;250m \u001b[39m\u001b[38;5;21;01mnumpy\u001b[39;00m\u001b[38;5;250m \u001b[39m\u001b[38;5;28;01mas\u001b[39;00m\u001b[38;5;250m \u001b[39m\u001b[38;5;21;01mnp\u001b[39;00m\n\u001b[0;32m      3\u001b[0m \u001b[38;5;28;01mimport\u001b[39;00m\u001b[38;5;250m \u001b[39m\u001b[38;5;21;01mmatplotlib\u001b[39;00m\u001b[38;5;21;01m.\u001b[39;00m\u001b[38;5;21;01mpyplot\u001b[39;00m\u001b[38;5;250m \u001b[39m\u001b[38;5;28;01mas\u001b[39;00m\u001b[38;5;250m \u001b[39m\u001b[38;5;21;01mplt\u001b[39;00m\n",
      "\u001b[1;31mModuleNotFoundError\u001b[0m: No module named 'pandas'"
     ]
    }
   ],
   "source": [
    "import pandas as pd\n",
    "import numpy as np\n",
    "import matplotlib.pyplot as plt\n",
    "import seaborn as sns\n"
   ]
  },
  {
   "cell_type": "code",
   "execution_count": 1,
   "id": "f026a1b1",
   "metadata": {},
   "outputs": [
    {
     "ename": "ModuleNotFoundError",
     "evalue": "No module named 'sklearn'",
     "output_type": "error",
     "traceback": [
      "\u001b[1;31m---------------------------------------------------------------------------\u001b[0m",
      "\u001b[1;31mModuleNotFoundError\u001b[0m                       Traceback (most recent call last)",
      "Cell \u001b[1;32mIn[1], line 1\u001b[0m\n\u001b[1;32m----> 1\u001b[0m \u001b[38;5;28;01mfrom\u001b[39;00m\u001b[38;5;250m \u001b[39m\u001b[38;5;21;01msklearn\u001b[39;00m\u001b[38;5;21;01m.\u001b[39;00m\u001b[38;5;21;01mmodel_selection\u001b[39;00m\u001b[38;5;250m \u001b[39m\u001b[38;5;28;01mimport\u001b[39;00m train_test_split\n\u001b[0;32m      2\u001b[0m \u001b[38;5;28;01mfrom\u001b[39;00m\u001b[38;5;250m \u001b[39m\u001b[38;5;21;01msklearn\u001b[39;00m\u001b[38;5;21;01m.\u001b[39;00m\u001b[38;5;21;01mmetrics\u001b[39;00m\u001b[38;5;250m \u001b[39m\u001b[38;5;28;01mimport\u001b[39;00m classification_report, accuracy_score\n\u001b[0;32m      3\u001b[0m \u001b[38;5;28;01mfrom\u001b[39;00m\u001b[38;5;250m \u001b[39m\u001b[38;5;21;01msklearn\u001b[39;00m\u001b[38;5;21;01m.\u001b[39;00m\u001b[38;5;21;01mpreprocessing\u001b[39;00m\u001b[38;5;250m \u001b[39m\u001b[38;5;28;01mimport\u001b[39;00m LabelEncoder\n",
      "\u001b[1;31mModuleNotFoundError\u001b[0m: No module named 'sklearn'"
     ]
    }
   ],
   "source": [
    "from sklearn.model_selection import train_test_split\n",
    "from sklearn.metrics import classification_report, accuracy_score\n",
    "from sklearn.preprocessing import LabelEncoder\n",
    "\n",
    "import tensorflow as tf\n",
    "from tensorflow.keras.models import Sequential\n",
    "from tensorflow.keras.layers import Embedding, LSTM, Dense, GlobalAveragePooling1D\n",
    "from tensorflow.keras.preprocessing.text import Tokenizer\n",
    "from tensorflow.keras.preprocessing.sequence import pad_sequences"
   ]
  },
  {
   "cell_type": "code",
   "execution_count": 6,
   "id": "8532a76e",
   "metadata": {},
   "outputs": [
    {
     "name": "stdout",
     "output_type": "stream",
     "text": [
      "          userName                                            content  score  \\\n",
      "0  Pengguna Google  ada bug pas update, login gak bisa katanya jar...      1   \n",
      "1  Pengguna Google  LEGEND PETIR KETEMU RANDOM MASIH BANYAK TOLOLN...      2   \n",
      "2  Pengguna Google                                                  👍      5   \n",
      "3  Pengguna Google  game busuk match tidak seimbang sama sekali ma...      1   \n",
      "4  Pengguna Google  oke.terima kasih.gamenya Uda bagus.karna saya ...      5   \n",
      "\n",
      "     label                   at  \n",
      "0  negatif  2025-05-22 22:57:27  \n",
      "1  negatif  2025-05-20 23:51:29  \n",
      "2  positif  2025-05-17 21:03:18  \n",
      "3  negatif  2025-05-09 14:53:58  \n",
      "4  positif  2025-05-07 01:14:33  \n"
     ]
    }
   ],
   "source": [
    "# Load dataset\n",
    "df = pd.read_csv('dataset_labeled.csv')\n",
    "print(df.head())"
   ]
  },
  {
   "cell_type": "code",
   "execution_count": null,
   "id": "a09338f5",
   "metadata": {},
   "outputs": [],
   "source": [
    "# Drop unused columns\n",
    "df = df[['content', 'label']]\n",
    "df.dropna(inplace=True)"
   ]
  },
  {
   "cell_type": "code",
   "execution_count": null,
   "id": "e24e936e",
   "metadata": {},
   "outputs": [],
   "source": [
    "# Label encoding\n",
    "label_encoder = LabelEncoder()\n",
    "df['label'] = label_encoder.fit_transform(df['label'])"
   ]
  },
  {
   "cell_type": "code",
   "execution_count": null,
   "id": "8691fb3d",
   "metadata": {},
   "outputs": [],
   "source": [
    "# Tokenization\n",
    "tokenizer = Tokenizer(num_words=20000, oov_token=\"<OOV>\")\n",
    "tokenizer.fit_on_texts(df['content'].astype(str))\n",
    "\n",
    "sequences = tokenizer.texts_to_sequences(df['content'].astype(str))\n",
    "padded_sequences = pad_sequences(sequences, padding='post', maxlen=100)"
   ]
  },
  {
   "cell_type": "code",
   "execution_count": null,
   "id": "c1f599b4",
   "metadata": {},
   "outputs": [],
   "source": [
    "# Data split (three scenarios)\n",
    "experiments = [\n",
    "    (0.8, 'LSTM', False),\n",
    "    (0.8, 'LSTM', True),\n",
    "    (0.7, 'LSTM', False)\n",
    "]\n",
    "\n",
    "results = []\n",
    "for split_ratio, model_type, use_avg_pooling in experiments:\n",
    "    X_train, X_test, y_train, y_test = train_test_split(\n",
    "        padded_sequences, df['label'], test_size=1 - split_ratio, random_state=42, stratify=df['label']\n",
    "    )\n",
    "\n",
    "    model = Sequential()\n",
    "    model.add(Embedding(input_dim=20000, output_dim=128, input_length=100))\n",
    "    if use_avg_pooling:\n",
    "        model.add(GlobalAveragePooling1D())\n",
    "    else:\n",
    "        model.add(LSTM(64))\n",
    "    model.add(Dense(64, activation='relu'))\n",
    "    model.add(Dense(3, activation='softmax'))\n",
    "\n",
    "    model.compile(loss='sparse_categorical_crossentropy', optimizer='adam', metrics=['accuracy'])\n",
    "    history = model.fit(np.array(X_train), np.array(y_train), epochs=5, batch_size=32,\n",
    "                        validation_data=(np.array(X_test), np.array(y_test)), verbose=2)\n",
    "\n",
    "    train_acc = history.history['accuracy'][-1]\n",
    "    val_acc = history.history['val_accuracy'][-1]\n",
    "    results.append((split_ratio, model_type, use_avg_pooling, train_acc, val_acc))\n",
    "\n",
    "    print(\"\\nClassification Report for Test Set\")\n",
    "    y_pred = model.predict(np.array(X_test))\n",
    "    y_pred_classes = np.argmax(y_pred, axis=1)\n",
    "    print(classification_report(y_test, y_pred_classes, target_names=label_encoder.classes_))\n",
    "\n",
    "    sample_texts = [\n",
    "        \"fitur update terbaru sangat bagus dan berguna\",\n",
    "        \"game crash terus padahal koneksi lancar\",\n",
    "        \"oke lah untuk game casual\"\n",
    "    ]\n",
    "    sample_seq = tokenizer.texts_to_sequences(sample_texts)\n",
    "    sample_pad = pad_sequences(sample_seq, maxlen=100, padding='post')\n",
    "    predictions = model.predict(sample_pad)\n",
    "    predicted_labels = label_encoder.inverse_transform(np.argmax(predictions, axis=1))\n",
    "    for text, label in zip(sample_texts, predicted_labels):\n",
    "        print(f\"Text: {text} => Predicted Label: {label}\")\n"
   ]
  },
  {
   "cell_type": "code",
   "execution_count": null,
   "id": "158fa371",
   "metadata": {},
   "outputs": [],
   "source": [
    "print(\"\\nExperiment Results:\")\n",
    "for res in results:\n",
    "    print(f\"Split: {res[0]*100:.0f}%, Model: {res[1]}, Pooling: {res[2]}, Train Acc: {res[3]*100:.2f}%, Test Acc: {res[4]*100:.2f}%\")"
   ]
  }
 ],
 "metadata": {
  "kernelspec": {
   "display_name": "Python 3",
   "language": "python",
   "name": "python3"
  },
  "language_info": {
   "codemirror_mode": {
    "name": "ipython",
    "version": 3
   },
   "file_extension": ".py",
   "mimetype": "text/x-python",
   "name": "python",
   "nbconvert_exporter": "python",
   "pygments_lexer": "ipython3",
   "version": "3.10.0"
  }
 },
 "nbformat": 4,
 "nbformat_minor": 5
}
